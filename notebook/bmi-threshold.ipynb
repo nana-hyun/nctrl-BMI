{
 "cells": [
  {
   "cell_type": "code",
   "execution_count": 1,
   "id": "ae652387",
   "metadata": {
    "code_folding": []
   },
   "outputs": [],
   "source": [
    "# import library\n",
    "import numpy as np\n",
    "import pandas as pd\n",
    "import matplotlib.pyplot as plt\n",
    "\n",
    "import time\n",
    "from IPython.display import display, clear_output\n",
    "\n",
    "import pkgutil\n",
    "import spiketag\n",
    "\n",
    "from spiketag.realtime import BMI,Binner\n",
    "from spiketag.analysis import decoder\n",
    "from spiketag.base import probe\n",
    "\n",
    "\n",
    "import serial\n",
    "from bmi_module import BMIRealtime, GUIView"
   ]
  },
  {
   "cell_type": "markdown",
   "id": "b49015c9",
   "metadata": {},
   "source": [
    "# 0. BMI using BMIrealtime_Func.py"
   ]
  },
  {
   "cell_type": "code",
   "execution_count": null,
   "id": "5273739d",
   "metadata": {},
   "outputs": [],
   "source": [
    "# GUI view\n",
    "gui_view = GUIView()\n",
    "spike_file = 'spktag/model.pd'\n",
    "gui_view.plot_spike_firing_rate_and_isi(spike_file)"
   ]
  },
  {
   "cell_type": "code",
   "execution_count": null,
   "id": "f10fea2c",
   "metadata": {},
   "outputs": [],
   "source": [
    "def main():\n",
    "    prb_path = 'prb_a2x32.prb'\n",
    "    fetfile = 'fet.bin' \n",
    "    ttlport = '/dev/ttyACM0'\n",
    "\n",
    "    \n",
    "    bmi_realtime = BMIRealtime(prb_path, fetfile, ttlport)\n",
    "\n",
    "    \n",
    "    bsize = 0.1\n",
    "    Bbins = 10\n",
    "    neuron_id = 0\n",
    "    threshold = 3\n",
    "    t_smooth = 3\n",
    "    bmi_update_rule = 'moving_average'\n",
    "    posterior_threshold = 0.01\n",
    "    two_steps_decoding = False\n",
    "    window_duration = 10000  # 10초\n",
    "    # #================#\n",
    "    #      mode      #\n",
    "    # 1. firing rate #\n",
    "    #   2. spike ID  #\n",
    "    #     3. both    #\n",
    "    #================#\n",
    "    mode = 'both'\n",
    "    targetID = 0\n",
    "\n",
    "    # realtime BMI laser start\n",
    "    bmi_realtime.start_bmi_realtime(bsize, Bbins, neuron_id, threshold, t_smooth,\n",
    "                                    bmi_update_rule, posterior_threshold, two_steps_decoding,\n",
    "                                    mode, targetID, window_duration)\n",
    "\n",
    "if __name__ == \"__main__\":\n",
    "    main()"
   ]
  },
  {
   "cell_type": "markdown",
   "id": "5bf1435b",
   "metadata": {},
   "source": [
    "# 1. BMI in Ipynb"
   ]
  },
  {
   "cell_type": "code",
   "execution_count": 2,
   "id": "3f3a9612",
   "metadata": {
    "code_folding": [
     0
    ]
   },
   "outputs": [],
   "source": [
    "# reading fet file\n",
    "fet_path = 'fet.bin'\n",
    "fet = np.memmap(fet_path, dtype=np.int32).reshape(-1, 8)\n",
    "t = fet[:, 0]  # time\n",
    "grp_id = fet[:, 1]  # group id\n",
    "fets = fet[:, 2:6]  # feature extraction\n",
    "spk_id = fet[:, 6]  # spike id\n",
    "energy = fet[:, 7]  # energy"
   ]
  },
  {
   "cell_type": "code",
   "execution_count": 3,
   "id": "784fef91",
   "metadata": {
    "code_folding": [
     0
    ]
   },
   "outputs": [
    {
     "name": "stdout",
     "output_type": "stream",
     "text": [
      "Modules in spiketag:\n",
      "analysis (Package: True)\n",
      "base (Package: True)\n",
      "command (Package: False)\n",
      "core (Package: True)\n",
      "fpga (Package: True)\n",
      "mvc (Package: True)\n",
      "probe (Package: True)\n",
      "quality (Package: True)\n",
      "realtime (Package: True)\n",
      "res (Package: True)\n",
      "spiketag (Package: False)\n",
      "utils (Package: True)\n",
      "view (Package: True)\n"
     ]
    }
   ],
   "source": [
    "# check spiketag module\n",
    "package = spiketag\n",
    "\n",
    "print(f\"Modules in {package.__name__}:\")\n",
    "for importer, modname, ispkg in pkgutil.iter_modules(package.__path__):\n",
    "    print(f\"{modname} (Package: {ispkg})\")"
   ]
  },
  {
   "cell_type": "markdown",
   "id": "2ebf1094",
   "metadata": {},
   "source": [
    "# bmi"
   ]
  },
  {
   "cell_type": "code",
   "execution_count": 4,
   "id": "27543286",
   "metadata": {},
   "outputs": [],
   "source": [
    "# have to be developed\n",
    "\n",
    "def plot_raster(target_neuron_id, bmi_output, window_duration,spike_times):\n",
    "    # Create the plot\n",
    "#     fig, ax = plt.subplots(figsize=(10, 8))\n",
    "\n",
    "    t = bmi_output.timestamp  # time\n",
    "    spk_id = bmi_output.spk_id\n",
    "    rm_t = t % 1000\n",
    "\n",
    "    if spk_id == target_neuron_id:\n",
    "        if len(spike_times) != 0:\n",
    "            if spike_times[-1] > rm_t:\n",
    "                plt.close()\n",
    "                spike_times.clear()\n",
    "        spike_times.append(rm_t)\n",
    "\n",
    "#         ax.cla()  # Clear the previous plot\n",
    "    clear_output(wait=True)\n",
    "    plt.eventplot(spike_times, orientation='horizontal', linelengths=0.8)\n",
    "    plt.xlim(0, 1000)\n",
    "#         plt.ylim(-0.5, 0.5)\n",
    "    plt.xlabel('Time (s)')\n",
    "    plt.title('Real-time Raster Plot for Neuron {}'.format(target_neuron_id))\n",
    "\n",
    "#         display(plt.gcf().show())\n",
    "    plt.show();\n",
    "\n",
    "    time.sleep(0.1)\n",
    "    return spike_times"
   ]
  },
  {
   "cell_type": "code",
   "execution_count": 5,
   "id": "97b41966",
   "metadata": {
    "code_folding": [
     0
    ]
   },
   "outputs": [],
   "source": [
    "# send_signal_to_teensy()\n",
    "def send_signal_to_teensy(bmi):\n",
    "#     print(\"Signal\")\n",
    "    if bmi.TTLserial is not None:\n",
    "        bmi.TTLserial.write(b'a')\n",
    "        bmi.TTLserial.flush()"
   ]
  },
  {
   "cell_type": "code",
   "execution_count": 6,
   "id": "8c1822b8",
   "metadata": {},
   "outputs": [],
   "source": [
    "# reset_signal_to_teensy()\n",
    "def reset_signal_to_teensy(bmi):\n",
    "    if bmi.TTLserial is not None:\n",
    "        bmi.TTLserial.write(b'b')\n",
    "        bmi.TTLserial.flush()"
   ]
  },
  {
   "cell_type": "code",
   "execution_count": 7,
   "id": "d068e6f2",
   "metadata": {},
   "outputs": [],
   "source": [
    "# bmi laser function (mode)\n",
    "def bmi_func(bmi, mode,targetID,neuron_id,threshold,window_duration):\n",
    "    spike_times = []\n",
    "    while True:\n",
    "        frFlag = 0\n",
    "        spkFlag = 0\n",
    "        bmi_output = bmi.read_bmi()\n",
    "        spike_times = plot_raster(targetID, bmi_output, window_duration,spike_times)\n",
    "        \n",
    "        if mode != \"spike ID\":\n",
    "            bmi.binner.input(bmi_output)\n",
    "            count_vec = bmi.binner.output\n",
    "            sum_count = count_vec.sum(axis=0)\n",
    "            if sum_count[neuron_id] >= threshold:\n",
    "                frFlag = 1\n",
    "        if mode != \"firing rate\":\n",
    "            spike_id = bmi_output.spk_id\n",
    "            if spike_id == targetID:\n",
    "                spkFlag = 1\n",
    "\n",
    "        if frFlag == 1 or spkFlag == 1:\n",
    "            send_signal_to_teensy(bmi)\n",
    "        else:\n",
    "            reset_signal_to_teensy(bmi)"
   ]
  },
  {
   "cell_type": "code",
   "execution_count": 8,
   "id": "5677a30c",
   "metadata": {
    "code_folding": [
     0
    ]
   },
   "outputs": [],
   "source": [
    "# prb file\n",
    "prb_path = \"prb_a2x32.prb\"\n",
    "prb = probe()\n",
    "prb.load(prb_path)\n",
    "# prb.show()\n",
    "fet_path = 'fet.bin'\n",
    "ttlport = '/dev/ttyACM0'"
   ]
  },
  {
   "cell_type": "code",
   "execution_count": 9,
   "id": "caa095f8",
   "metadata": {
    "code_folding": [],
    "scrolled": true
   },
   "outputs": [],
   "source": [
    "# bmi\n",
    "def bmi_realtime_laser(bmi,bsize,Bbins,neuron_id,threshold,t_smooth\n",
    "                       ,bmi_update_rule,posterior_threshold,\n",
    "                      two_steps_decoding,mode,targetID,window_duration):\n",
    "   \n",
    "    pos_buffer_len = int(float(t_smooth) / float(bsize))\n",
    "    \n",
    "\n",
    "    bmi.bmi_update_rule = bmi_update_rule\n",
    "    bmi.posterior_threshold = posterior_threshold\n",
    "    bmi.pos_buffer_len = pos_buffer_len # position buffer length for moving average\n",
    "    bmi.two_steps = two_steps_decoding\n",
    "    BMI.set_binner(bmi,bin_size = bsize ,B_bins = Bbins)\n",
    "\n",
    "\n",
    "    if bmi.binner is not None:\n",
    "        try:\n",
    "            \n",
    "# annotated parts are made into functions\n",
    "#             while True:\n",
    "#                 bmi_output = bmi.read_bmi()\n",
    "#                 bmi.binner.input(bmi_output)\n",
    "#                 count_vec = bmi.binner.output\n",
    "#                 sum_count = count_vec.sum(axis=0)\n",
    "#         #         print(sum_count[neuron_id])\n",
    "#                 if sum_count[neuron_id] >= threshold:\n",
    "#                     send_signal_to_teensy()\n",
    "#                 else:\n",
    "#                     reset_signal_to_teensy()\n",
    "\n",
    "#             bmi_loop(lambda : bmi_func(bmi,mode,targetID,neuron_id,threshold,window_duration))\n",
    "            bmi_func(bmi, mode,targetID,neuron_id,threshold,window_duration)\n",
    "        except KeyboardInterrupt:\n",
    "            print(\"Terminating the loop...\")\n",
    "        finally:\n",
    "            bmi.close() # close bmi\n"
   ]
  },
  {
   "cell_type": "code",
   "execution_count": 10,
   "id": "8bc506bf",
   "metadata": {},
   "outputs": [
    {
     "name": "stdout",
     "output_type": "stream",
     "text": [
      "32 groups on probe\n",
      "2 groups is configured in the FPGA: [ 9 14]\n",
      "9 neurons are configured in the FPGA\n",
      "---1. BMI spike-model initiation succeed---\n",
      "\n",
      "spike-id packet channel is opened\n",
      "\n",
      "spike-id and feature is saved to fet.bin\n",
      "\n"
     ]
    }
   ],
   "source": [
    "bmi = BMI(prb=prb, fetfile=fet_path, ttlport=ttlport)\n",
    "# print(np.unique(spk_id))"
   ]
  },
  {
   "cell_type": "code",
   "execution_count": 13,
   "id": "29290897",
   "metadata": {},
   "outputs": [
    {
     "name": "stdout",
     "output_type": "stream",
     "text": [
      "32 groups on probe\n",
      "2 groups is configured in the FPGA: [ 9 14]\n",
      "9 neurons are configured in the FPGA\n",
      "---1. BMI spike-model initiation succeed---\n",
      "\n"
     ]
    },
    {
     "ename": "OSError",
     "evalue": "[Errno 16] Device or resource busy: '/dev/xillybus_fet_clf_32'",
     "output_type": "error",
     "traceback": [
      "\u001b[0;31m---------------------------------------------------------------------------\u001b[0m",
      "\u001b[0;31mOSError\u001b[0m                                   Traceback (most recent call last)",
      "Cell \u001b[0;32mIn[13], line 4\u001b[0m\n\u001b[1;32m      1\u001b[0m \u001b[38;5;66;03m# function call parts\u001b[39;00m\n\u001b[1;32m      2\u001b[0m \u001b[38;5;66;03m# you can edit the values if you need\u001b[39;00m\n\u001b[1;32m      3\u001b[0m \u001b[38;5;66;03m# set var\u001b[39;00m\n\u001b[0;32m----> 4\u001b[0m bmi \u001b[38;5;241m=\u001b[39m \u001b[43mBMI\u001b[49m\u001b[43m(\u001b[49m\u001b[43mprb\u001b[49m\u001b[38;5;241;43m=\u001b[39;49m\u001b[43mprb\u001b[49m\u001b[43m,\u001b[49m\u001b[43m \u001b[49m\u001b[43mfetfile\u001b[49m\u001b[38;5;241;43m=\u001b[39;49m\u001b[43mfet_path\u001b[49m\u001b[43m,\u001b[49m\u001b[43m \u001b[49m\u001b[43mttlport\u001b[49m\u001b[38;5;241;43m=\u001b[39;49m\u001b[43mttlport\u001b[49m\u001b[43m)\u001b[49m\n\u001b[1;32m      5\u001b[0m \u001b[38;5;66;03m# bsize = 100e-3 # 0.1 sec\u001b[39;00m\n\u001b[1;32m      6\u001b[0m bsize \u001b[38;5;241m=\u001b[39m \u001b[38;5;241m0.1\u001b[39m\n",
      "File \u001b[0;32m~/anaconda3/envs/spiketag_test/lib/python3.8/site-packages/spiketag/realtime/BMI.py:117\u001b[0m, in \u001b[0;36mBMI.__init__\u001b[0;34m(self, prb, fetfile, ttlport)\u001b[0m\n\u001b[1;32m    114\u001b[0m \u001b[38;5;28mprint\u001b[39m(\u001b[38;5;124m'\u001b[39m\u001b[38;5;124m---1. BMI spike-model initiation succeed---\u001b[39m\u001b[38;5;130;01m\\n\u001b[39;00m\u001b[38;5;124m'\u001b[39m)\n\u001b[1;32m    116\u001b[0m \u001b[38;5;28;01mif\u001b[39;00m fetfile \u001b[38;5;129;01mis\u001b[39;00m \u001b[38;5;129;01mnot\u001b[39;00m \u001b[38;5;28;01mNone\u001b[39;00m:\n\u001b[0;32m--> 117\u001b[0m     \u001b[38;5;28;43mself\u001b[39;49m\u001b[38;5;241;43m.\u001b[39;49m\u001b[43minit_bmi_packet_channel\u001b[49m\u001b[43m(\u001b[49m\u001b[43m)\u001b[49m\n\u001b[1;32m    118\u001b[0m     \u001b[38;5;28mself\u001b[39m\u001b[38;5;241m.\u001b[39mfetfile \u001b[38;5;241m=\u001b[39m fetfile\n\u001b[1;32m    119\u001b[0m     \u001b[38;5;28mself\u001b[39m\u001b[38;5;241m.\u001b[39mfd \u001b[38;5;241m=\u001b[39m os\u001b[38;5;241m.\u001b[39mopen(\u001b[38;5;28mself\u001b[39m\u001b[38;5;241m.\u001b[39mfetfile, os\u001b[38;5;241m.\u001b[39mO_CREAT \u001b[38;5;241m|\u001b[39m os\u001b[38;5;241m.\u001b[39mO_WRONLY \u001b[38;5;241m|\u001b[39m os\u001b[38;5;241m.\u001b[39mO_NONBLOCK)\n",
      "File \u001b[0;32m~/anaconda3/envs/spiketag_test/lib/python3.8/site-packages/spiketag/realtime/BMI.py:152\u001b[0m, in \u001b[0;36mBMI.init_bmi_packet_channel\u001b[0;34m(self)\u001b[0m\n\u001b[1;32m    151\u001b[0m \u001b[38;5;28;01mdef\u001b[39;00m \u001b[38;5;21minit_bmi_packet_channel\u001b[39m(\u001b[38;5;28mself\u001b[39m):\n\u001b[0;32m--> 152\u001b[0m     \u001b[38;5;28mself\u001b[39m\u001b[38;5;241m.\u001b[39mr32 \u001b[38;5;241m=\u001b[39m \u001b[43mio\u001b[49m\u001b[38;5;241;43m.\u001b[39;49m\u001b[43mopen\u001b[49m\u001b[43m(\u001b[49m\u001b[38;5;124;43m'\u001b[39;49m\u001b[38;5;124;43m/dev/xillybus_fet_clf_32\u001b[39;49m\u001b[38;5;124;43m'\u001b[39;49m\u001b[43m,\u001b[49m\u001b[43m \u001b[49m\u001b[38;5;124;43m'\u001b[39;49m\u001b[38;5;124;43mrb\u001b[39;49m\u001b[38;5;124;43m'\u001b[39;49m\u001b[43m,\u001b[49m\u001b[43m \u001b[49m\u001b[43mbuffering\u001b[49m\u001b[38;5;241;43m=\u001b[39;49m\u001b[38;5;241;43m4\u001b[39;49m\u001b[43m)\u001b[49m  \u001b[38;5;66;03m# this buffer size is critical for performance\u001b[39;00m\n\u001b[1;32m    153\u001b[0m     \u001b[38;5;28mself\u001b[39m\u001b[38;5;241m.\u001b[39m_size \u001b[38;5;241m=\u001b[39m \u001b[38;5;241m8\u001b[39m\u001b[38;5;241m*\u001b[39m\u001b[38;5;241m4\u001b[39m  \u001b[38;5;66;03m# 8 samples, 4 bytes/sample\u001b[39;00m\n\u001b[1;32m    154\u001b[0m     \u001b[38;5;28mself\u001b[39m\u001b[38;5;241m.\u001b[39mbmi_buf \u001b[38;5;241m=\u001b[39m \u001b[38;5;28;01mNone\u001b[39;00m\n",
      "\u001b[0;31mOSError\u001b[0m: [Errno 16] Device or resource busy: '/dev/xillybus_fet_clf_32'"
     ]
    }
   ],
   "source": [
    "# function call parts\n",
    "# you can edit the values if you need\n",
    "# set var\n",
    "bmi = BMI(prb=prb, fetfile=fet_path, ttlport=ttlport)\n",
    "# bsize = 100e-3 # 0.1 sec\n",
    "bsize = 0.1\n",
    "Bbins = 10\n",
    "neuron_id = 0\n",
    "threshold = 3\n",
    "t_smooth = 3\n",
    "\n",
    "bmi_update_rule = 'moving_average'\n",
    "posterior_threshold = 0.01\n",
    "two_steps_decoding = False\n",
    "# bmi = BMI(prb=prb, fetfile=fet_path, ttlport=ttlport)\n",
    "# #================#\n",
    "#      mode      #\n",
    "# 1. firing rate #\n",
    "#   2. spike ID  #\n",
    "#     3. both    #\n",
    "#================#\n",
    "window_duration = 10000  # 10초\n",
    "\n",
    "mode = 'both'\n",
    "targetID = 0\n",
    "\n",
    "bmi_realtime_laser(bmi,bsize,Bbins,neuron_id,threshold,t_smooth\n",
    "                       ,bmi_update_rule,posterior_threshold,\n",
    "                      two_steps_decoding,mode,targetID,window_duration)"
   ]
  },
  {
   "cell_type": "code",
   "execution_count": 19,
   "id": "4ac421df",
   "metadata": {},
   "outputs": [
    {
     "data": {
      "text/plain": [
       "array([[ 0.,  0.,  0.,  0.,  0.,  0.,  0.,  0.,  0.],\n",
       "       [ 0.,  0.,  0.,  0.,  0.,  0.,  0.,  0.,  0.],\n",
       "       [ 0.,  0.,  0.,  0.,  0.,  0.,  0.,  0.,  0.],\n",
       "       [ 0.,  0.,  0.,  0.,  0.,  0.,  0.,  0.,  0.],\n",
       "       [ 0.,  0.,  0.,  0.,  0.,  0.,  0.,  0.,  0.],\n",
       "       [ 0.,  0.,  0.,  0.,  0.,  0.,  0.,  0.,  0.],\n",
       "       [ 0.,  0.,  0.,  0.,  0.,  0.,  0.,  0.,  0.],\n",
       "       [ 0.,  0.,  0.,  0.,  0.,  0.,  0.,  0.,  0.],\n",
       "       [64.,  0.,  0.,  0.,  0.,  0.,  0.,  0.,  0.],\n",
       "       [34.,  0.,  0.,  0.,  0.,  0.,  0.,  0.,  0.]])"
      ]
     },
     "execution_count": 19,
     "metadata": {},
     "output_type": "execute_result"
    }
   ],
   "source": [
    "# count_vec\n",
    "bmi.binner.output"
   ]
  },
  {
   "cell_type": "code",
   "execution_count": 75,
   "id": "8ad80a24",
   "metadata": {},
   "outputs": [
    {
     "data": {
      "text/plain": [
       "array([ 4,  5,  6, 11, 12, 15])"
      ]
     },
     "execution_count": 75,
     "metadata": {},
     "output_type": "execute_result"
    }
   ],
   "source": [
    "bmi.fpga.configured_groups"
   ]
  },
  {
   "cell_type": "code",
   "execution_count": 12,
   "id": "95d0d584",
   "metadata": {},
   "outputs": [
    {
     "name": "stdout",
     "output_type": "stream",
     "text": [
      "Serial<id=0x7f922132bf70, open=False>(port='/dev/ttyACM1', baudrate=115200, bytesize=8, parity='N', stopbits=1, timeout=0, xonxoff=False, rtscts=False, dsrdtr=False)\n"
     ]
    }
   ],
   "source": [
    "print(bmi.TTLserial)"
   ]
  },
  {
   "cell_type": "markdown",
   "id": "5daaa7f2",
   "metadata": {},
   "source": [
    "# DataFrame"
   ]
  },
  {
   "cell_type": "code",
   "execution_count": null,
   "id": "461c51a0",
   "metadata": {
    "code_folding": [
     0
    ]
   },
   "outputs": [],
   "source": [
    "# fet to dataframe\n",
    "fet_df = pd.DataFrame(fet,columns = ['t','grp_id','fets_0','fets_1','fets_2','fets_3','spk_id','energy'])\n",
    "fet_df.head(10)"
   ]
  },
  {
   "cell_type": "code",
   "execution_count": null,
   "id": "a0769e24",
   "metadata": {},
   "outputs": [],
   "source": [
    "np.unique(spk_id)"
   ]
  },
  {
   "cell_type": "code",
   "execution_count": null,
   "id": "fdfb3078",
   "metadata": {
    "code_folding": [
     0
    ]
   },
   "outputs": [],
   "source": [
    "# visualization time(spk_id)\n",
    "plt.vlines(t[spk_id==4], 0, 1)\n",
    "plt.xlim([0, 100000])"
   ]
  },
  {
   "cell_type": "code",
   "execution_count": null,
   "id": "e0ad1bde",
   "metadata": {
    "code_folding": [
     0
    ]
   },
   "outputs": [],
   "source": [
    "# counts at each time\n",
    "unique_times, counts = np.unique(t[spk_id==1], return_counts=True)\n",
    "counts"
   ]
  },
  {
   "cell_type": "code",
   "execution_count": 19,
   "id": "87101a5a",
   "metadata": {},
   "outputs": [
    {
     "ename": "AttributeError",
     "evalue": "'BMI' object has no attribute 'gui_queue'",
     "output_type": "error",
     "traceback": [
      "\u001b[0;31m---------------------------------------------------------------------------\u001b[0m",
      "\u001b[0;31mAttributeError\u001b[0m                            Traceback (most recent call last)",
      "Cell \u001b[0;32mIn[19], line 1\u001b[0m\n\u001b[0;32m----> 1\u001b[0m \u001b[43mbmi\u001b[49m\u001b[38;5;241;43m.\u001b[39;49m\u001b[43mgui_queue\u001b[49m\u001b[38;5;241m.\u001b[39mget()\n",
      "\u001b[0;31mAttributeError\u001b[0m: 'BMI' object has no attribute 'gui_queue'"
     ]
    }
   ],
   "source": [
    "bmi.gui_queue.get()"
   ]
  },
  {
   "cell_type": "markdown",
   "id": "af4a0e43",
   "metadata": {},
   "source": [
    "# Laser Test"
   ]
  },
  {
   "cell_type": "code",
   "execution_count": 17,
   "id": "136aa294",
   "metadata": {},
   "outputs": [
    {
     "ename": "SerialException",
     "evalue": "write failed: [Errno 5] Input/output error",
     "output_type": "error",
     "traceback": [
      "\u001b[0;31m---------------------------------------------------------------------------\u001b[0m",
      "\u001b[0;31mOSError\u001b[0m                                   Traceback (most recent call last)",
      "File \u001b[0;32m~/anaconda3/envs/spiketag_test/lib/python3.8/site-packages/serial/serialposix.py:621\u001b[0m, in \u001b[0;36mSerial.write\u001b[0;34m(self, data)\u001b[0m\n\u001b[1;32m    620\u001b[0m \u001b[38;5;28;01mtry\u001b[39;00m:\n\u001b[0;32m--> 621\u001b[0m     n \u001b[38;5;241m=\u001b[39m \u001b[43mos\u001b[49m\u001b[38;5;241;43m.\u001b[39;49m\u001b[43mwrite\u001b[49m\u001b[43m(\u001b[49m\u001b[38;5;28;43mself\u001b[39;49m\u001b[38;5;241;43m.\u001b[39;49m\u001b[43mfd\u001b[49m\u001b[43m,\u001b[49m\u001b[43m \u001b[49m\u001b[43md\u001b[49m\u001b[43m)\u001b[49m\n\u001b[1;32m    622\u001b[0m     \u001b[38;5;28;01mif\u001b[39;00m timeout\u001b[38;5;241m.\u001b[39mis_non_blocking:\n\u001b[1;32m    623\u001b[0m         \u001b[38;5;66;03m# Zero timeout indicates non-blocking - simply return the\u001b[39;00m\n\u001b[1;32m    624\u001b[0m         \u001b[38;5;66;03m# number of bytes of data actually written\u001b[39;00m\n",
      "\u001b[0;31mOSError\u001b[0m: [Errno 5] Input/output error",
      "\nDuring handling of the above exception, another exception occurred:\n",
      "\u001b[0;31mSerialException\u001b[0m                           Traceback (most recent call last)",
      "Cell \u001b[0;32mIn[17], line 3\u001b[0m\n\u001b[1;32m      1\u001b[0m \u001b[38;5;66;03m# bmi.read_bmi()\u001b[39;00m\n\u001b[1;32m      2\u001b[0m \u001b[38;5;28;01mwhile\u001b[39;00m \u001b[38;5;28;01mTrue\u001b[39;00m:\n\u001b[0;32m----> 3\u001b[0m     \u001b[43msend_signal_to_teensy\u001b[49m\u001b[43m(\u001b[49m\u001b[43mbmi\u001b[49m\u001b[43m)\u001b[49m\n",
      "Cell \u001b[0;32mIn[6], line 5\u001b[0m, in \u001b[0;36msend_signal_to_teensy\u001b[0;34m(bmi)\u001b[0m\n\u001b[1;32m      2\u001b[0m \u001b[38;5;28;01mdef\u001b[39;00m \u001b[38;5;21msend_signal_to_teensy\u001b[39m(bmi):\n\u001b[1;32m      3\u001b[0m \u001b[38;5;66;03m#     print(\"Signal\")\u001b[39;00m\n\u001b[1;32m      4\u001b[0m     \u001b[38;5;28;01mif\u001b[39;00m bmi\u001b[38;5;241m.\u001b[39mTTLserial \u001b[38;5;129;01mis\u001b[39;00m \u001b[38;5;129;01mnot\u001b[39;00m \u001b[38;5;28;01mNone\u001b[39;00m:\n\u001b[0;32m----> 5\u001b[0m         \u001b[43mbmi\u001b[49m\u001b[38;5;241;43m.\u001b[39;49m\u001b[43mTTLserial\u001b[49m\u001b[38;5;241;43m.\u001b[39;49m\u001b[43mwrite\u001b[49m\u001b[43m(\u001b[49m\u001b[38;5;124;43mb\u001b[39;49m\u001b[38;5;124;43m'\u001b[39;49m\u001b[38;5;124;43ma\u001b[39;49m\u001b[38;5;124;43m'\u001b[39;49m\u001b[43m)\u001b[49m\n\u001b[1;32m      6\u001b[0m         bmi\u001b[38;5;241m.\u001b[39mTTLserial\u001b[38;5;241m.\u001b[39mflush()\n",
      "File \u001b[0;32m~/anaconda3/envs/spiketag_test/lib/python3.8/site-packages/serial/serialposix.py:655\u001b[0m, in \u001b[0;36mSerial.write\u001b[0;34m(self, data)\u001b[0m\n\u001b[1;32m    650\u001b[0m \u001b[38;5;28;01mexcept\u001b[39;00m \u001b[38;5;167;01mOSError\u001b[39;00m \u001b[38;5;28;01mas\u001b[39;00m e:\n\u001b[1;32m    651\u001b[0m     \u001b[38;5;66;03m# this is for Python 3.x where select.error is a subclass of\u001b[39;00m\n\u001b[1;32m    652\u001b[0m     \u001b[38;5;66;03m# OSError ignore BlockingIOErrors and EINTR. other errors are shown\u001b[39;00m\n\u001b[1;32m    653\u001b[0m     \u001b[38;5;66;03m# https://www.python.org/dev/peps/pep-0475.\u001b[39;00m\n\u001b[1;32m    654\u001b[0m     \u001b[38;5;28;01mif\u001b[39;00m e\u001b[38;5;241m.\u001b[39merrno \u001b[38;5;129;01mnot\u001b[39;00m \u001b[38;5;129;01min\u001b[39;00m (errno\u001b[38;5;241m.\u001b[39mEAGAIN, errno\u001b[38;5;241m.\u001b[39mEALREADY, errno\u001b[38;5;241m.\u001b[39mEWOULDBLOCK, errno\u001b[38;5;241m.\u001b[39mEINPROGRESS, errno\u001b[38;5;241m.\u001b[39mEINTR):\n\u001b[0;32m--> 655\u001b[0m         \u001b[38;5;28;01mraise\u001b[39;00m SerialException(\u001b[38;5;124m'\u001b[39m\u001b[38;5;124mwrite failed: \u001b[39m\u001b[38;5;132;01m{}\u001b[39;00m\u001b[38;5;124m'\u001b[39m\u001b[38;5;241m.\u001b[39mformat(e))\n\u001b[1;32m    656\u001b[0m \u001b[38;5;28;01mexcept\u001b[39;00m select\u001b[38;5;241m.\u001b[39merror \u001b[38;5;28;01mas\u001b[39;00m e:\n\u001b[1;32m    657\u001b[0m     \u001b[38;5;66;03m# this is for Python 2.x\u001b[39;00m\n\u001b[1;32m    658\u001b[0m     \u001b[38;5;66;03m# ignore BlockingIOErrors and EINTR. all errors are shown\u001b[39;00m\n\u001b[1;32m    659\u001b[0m     \u001b[38;5;66;03m# see also http://www.python.org/dev/peps/pep-3151/#select\u001b[39;00m\n\u001b[1;32m    660\u001b[0m     \u001b[38;5;28;01mif\u001b[39;00m e[\u001b[38;5;241m0\u001b[39m] \u001b[38;5;129;01mnot\u001b[39;00m \u001b[38;5;129;01min\u001b[39;00m (errno\u001b[38;5;241m.\u001b[39mEAGAIN, errno\u001b[38;5;241m.\u001b[39mEALREADY, errno\u001b[38;5;241m.\u001b[39mEWOULDBLOCK, errno\u001b[38;5;241m.\u001b[39mEINPROGRESS, errno\u001b[38;5;241m.\u001b[39mEINTR):\n",
      "\u001b[0;31mSerialException\u001b[0m: write failed: [Errno 5] Input/output error"
     ]
    }
   ],
   "source": [
    "# bmi.read_bmi()\n",
    "while True:\n",
    "    send_signal_to_teensy(bmi)"
   ]
  },
  {
   "cell_type": "markdown",
   "id": "2bc0df00",
   "metadata": {},
   "source": [
    "# GUI"
   ]
  },
  {
   "cell_type": "code",
   "execution_count": 10,
   "id": "96c846ef",
   "metadata": {},
   "outputs": [],
   "source": [
    "%matplotlib inline"
   ]
  },
  {
   "cell_type": "code",
   "execution_count": 65,
   "id": "97bdc339",
   "metadata": {},
   "outputs": [
    {
     "name": "stdout",
     "output_type": "stream",
     "text": [
      "30825\n"
     ]
    },
    {
     "data": {
      "text/plain": [
       "[<matplotlib.collections.EventCollection at 0x7f3757951f10>]"
      ]
     },
     "execution_count": 65,
     "metadata": {},
     "output_type": "execute_result"
    },
    {
     "data": {
      "image/png": "[encoded data removed]",
      "text/plain": [
       "<Figure size 640x480 with 1 Axes>"
      ]
     },
     "metadata": {},
     "output_type": "display_data"
    }
   ],
   "source": [
    "fet_path = 'fet.bin'\n",
    "fet = np.memmap(fet_path, dtype=np.int32).reshape(-1, 8)\n",
    "t = fet[:, 0]  # time\n",
    "grp_id = fet[:, 1]  # group id\n",
    "fets = fet[:, 2:6]  # feature extraction\n",
    "spk_id = fet[:, 6]  # spike id\n",
    "energy = fet[:, 7]  # energy\n",
    "\n",
    "current_t = t[-1]\n",
    "window = 10000 # 10 sec\n",
    "target_id = 11\n",
    "\n",
    "last_t = current_t - window\n",
    "\n",
    "print(last_t)\n",
    "spk_t = t[np.where((t>last_t) & (spk_id==target_id))]\n",
    "\n",
    "plt.eventplot(spk_t, orientation='horizontal', linelengths=0.5)"
   ]
  },
  {
   "cell_type": "code",
   "execution_count": 38,
   "id": "7851ac88",
   "metadata": {},
   "outputs": [
    {
     "data": {
      "image/png": "[encoded data removed]",
      "text/plain": [
       "<Figure size 640x480 with 1 Axes>"
      ]
     },
     "metadata": {},
     "output_type": "display_data"
    },
    {
     "name": "stdout",
     "output_type": "stream",
     "text": [
      "Stopped by user\n"
     ]
    }
   ],
   "source": [
    "def plot_raster(target_neuron_id, bmi, window_duration=10):\n",
    "    \n",
    "    # Create the plot\n",
    "#     fig, ax = plt.subplots(figsize=(10, 8))\n",
    "    spike_times = []\n",
    "\n",
    "    while True:\n",
    "        bmi_output = bmi.read_bmi()\n",
    "        t = bmi_output.timestamp  # time\n",
    "        spk_id = bmi_output.spk_id\n",
    "        rm_t = t % 1000\n",
    "        \n",
    "        if spk_id == target_neuron_id:\n",
    "            if len(spike_times) != 0:\n",
    "                if spike_times[-1] > rm_t:\n",
    "                    plt.close()\n",
    "                    spike_times.clear()\n",
    "            spike_times.append(rm_t)\n",
    "        \n",
    "#         ax.cla()  # Clear the previous plot\n",
    "        clear_output(wait=True)\n",
    "        plt.eventplot(spike_times, orientation='horizontal', linelengths=0.8)\n",
    "        plt.xlim(0, 1000)\n",
    "#         plt.ylim(-0.5, 0.5)\n",
    "        plt.xlabel('Time (s)')\n",
    "        plt.title('Real-time Raster Plot for Neuron {}'.format(target_neuron_id))\n",
    "        \n",
    "#         display(plt.gcf().show())\n",
    "        plt.show();\n",
    "\n",
    "        time.sleep(0.1)\n",
    "\n",
    "# fetfile = 'fet.bin'\n",
    "# ttlport = '/dev/ttyACM0'\n",
    "target_neuron_id = 11\n",
    "window_duration = 10000  # 10초\n",
    "\n",
    "\n",
    "bmi = BMI(prb, fetfile=fet_path, ttlport=ttlport)\n",
    "\n",
    "\n",
    "try:\n",
    "    plot_raster(target_neuron_id, bmi, window_duration)\n",
    "except KeyboardInterrupt:\n",
    "    print(\"Stopped by user\")\n",
    "finally:\n",
    "    bmi.close()\n"
   ]
  },
  {
   "cell_type": "code",
   "execution_count": null,
   "id": "cfcbb0cc",
   "metadata": {},
   "outputs": [],
   "source": []
  },
  {
   "cell_type": "code",
   "execution_count": null,
   "id": "95aa725f",
   "metadata": {},
   "outputs": [],
   "source": []
  }
 ],
 "metadata": {
  "kernelspec": {
   "display_name": "Python 3 (ipykernel)",
   "language": "python",
   "name": "python3"
  },
  "language_info": {
   "codemirror_mode": {
    "name": "ipython",
    "version": 3
   },
   "file_extension": ".py",
   "mimetype": "text/x-python",
   "name": "python",
   "nbconvert_exporter": "python",
   "pygments_lexer": "ipython3",
   "version": "3.8.19"
  }
 },
 "nbformat": 4,
 "nbformat_minor": 5
}
